{
 "cells": [
  {
   "cell_type": "markdown",
   "metadata": {},
   "source": [
    "# Neutrino Asymmetry from Kerr PBHs\n",
    "\n",
    "## Author: Yuber F. Perez-Gonzalez\n",
    "### Based on: arXiv:2307.14408"
   ]
  },
  {
   "cell_type": "code",
   "execution_count": 1,
   "metadata": {},
   "outputs": [],
   "source": [
    "import numpy as np\n",
    "from odeintw import odeintw\n",
    "from scipy import interpolate, optimize\n",
    "import matplotlib.pyplot as plt\n",
    "import scipy.integrate as integrate\n",
    "from scipy.integrate import quad, quad_vec, ode, solve_ivp, solve_bvp\n",
    "from scipy.optimize import root, toms748, root_scalar\n",
    "from scipy.special import zeta, kn, factorial, factorial2, eval_legendre, legendre, lpmn, lpmv, hyp2f1\n",
    "from scipy.interpolate import interp1d, RectBivariateSpline, RegularGridInterpolator\n",
    "from scipy.optimize import minimize, rosen, rosen_der\n",
    "\n",
    "from numpy import sqrt, log, exp, log10, pi, logspace, linspace, seterr, min, max, append\n",
    "from numpy import loadtxt, zeros, floor, ceil, unique, sort, cbrt, concatenate, real, imag\n",
    "from numpy import sin, cos, tan, arcsin, arccos, arctan\n",
    "from numpy import absolute, angle, array\n",
    "\n",
    "from collections import OrderedDict\n",
    "olderr = seterr(all='ignore')\n",
    "\n",
    "#from Integrator import Simp1D, Simp2D, Simp2D_varlims, Trap2D_varlims\n",
    "\n",
    "from pathos.multiprocessing import ProcessingPool as Pool\n",
    "\n",
    "from tqdm import tqdm\n",
    "\n",
    "import time\n",
    "\n",
    "import warnings\n",
    "warnings.filterwarnings('ignore')"
   ]
  },
  {
   "cell_type": "code",
   "execution_count": 2,
   "metadata": {},
   "outputs": [],
   "source": [
    "from matplotlib import cm\n",
    "from matplotlib.colors import ListedColormap, LinearSegmentedColormap\n",
    "\n",
    "colors = [\"#2364aa\", \"#3da5d9\", \"#73bfb8\", \"#fec601\", \"#ea7317\"]\n",
    "cmap1 = LinearSegmentedColormap.from_list(\"mycmap\", colors)"
   ]
  },
  {
   "cell_type": "code",
   "execution_count": 3,
   "metadata": {},
   "outputs": [],
   "source": [
    "linestyles = OrderedDict(\n",
    "    [('solid',               (0, ())),\n",
    "     ('loosely dotted',      (0, (1, 10))),\n",
    "     ('dotted',              (0, (1, 5))),\n",
    "     ('densely dotted',      (0, (1, 1))),\n",
    "\n",
    "     ('loosely dashed',      (0, (2, 4))),\n",
    "     ('dashed',              (0, (2, 5))),\n",
    "     ('densely dashed',      (0, (2, 1))),\n",
    "\n",
    "     ('loosely dashdotted',  (0, (3, 10, 1, 10))),\n",
    "     ('dashdotted',          (0, (3, 5, 1, 5))),\n",
    "     ('densely dashdotted',  (0, (3, 1, 1, 1))),\n",
    "\n",
    "     ('loosely dashdotdotted', (0, (3, 10, 1, 10, 1, 10))),\n",
    "     ('dashdotdotted',         (0, (3, 5, 1, 5, 1, 5))),\n",
    "     ('densely dashdotdotted', (0, (3, 1, 1, 1, 1, 1)))])"
   ]
  },
  {
   "cell_type": "code",
   "execution_count": 4,
   "metadata": {},
   "outputs": [],
   "source": [
    "tau_s = 100.0 # Time in s before BH evaporation"
   ]
  },
  {
   "cell_type": "code",
   "execution_count": 5,
   "metadata": {},
   "outputs": [],
   "source": [
    "d2N_tab=np.loadtxt(\"../time_integ/Data/d2N_dEdOm_t=\"+str(np.round(tau_s,3))+\".txt\")"
   ]
  },
  {
   "cell_type": "code",
   "execution_count": 6,
   "metadata": {},
   "outputs": [],
   "source": [
    "UNjt = 1.51927e24\n",
    "\n",
    "Nas = 50\n",
    "Nws = 50\n",
    "Nhs = 50\n",
    "\n",
    "as_arr  = np.linspace(0., 0.9999, Nas)\n",
    "ws_arr  = np.logspace(2, 6., Nws)\n",
    "ths_arr = np.linspace(-1, 1, Nhs)"
   ]
  },
  {
   "cell_type": "code",
   "execution_count": 7,
   "metadata": {},
   "outputs": [
    {
     "name": "stderr",
     "output_type": "stream",
     "text": [
      "100%|██████████████████████████████████████████████████████████████| 50/50 [00:00<00:00, 164.08it/s]\n"
     ]
    }
   ],
   "source": [
    "d2Nnu_int = zeros(((Nas,Nws,Nhs)))\n",
    "d2Nanu_int = zeros(((Nas,Nws,Nhs)))\n",
    "d2Nf_int = zeros(((Nas,Nws,Nhs)))\n",
    "d2Nv_int = zeros(((Nas,Nws,Nhs)))\n",
    "d2Ns_int = zeros(((Nas,Nws,Nhs)))\n",
    "\n",
    "#d2A_int.shape\n",
    "\n",
    "for i in tqdm(range(Nas)):\n",
    "    for j in range(Nws):\n",
    "        for k in range(Nhs):\n",
    "            d2Nnu_int[i,j,k]  = d2N_tab[i*Nws*Nhs + j*Nhs + k, 0]\n",
    "            d2Nanu_int[i,j,k] = d2N_tab[i*Nws*Nhs + j*Nhs + k, 1]\n",
    "            d2Nf_int[i,j,k]   = d2N_tab[i*Nws*Nhs + j*Nhs + k, 0] + d2N_tab[i*Nws*Nhs + j*Nhs + k, 1]\n",
    "            d2Nv_int[i,j,k]   = d2N_tab[i*Nws*Nhs + j*Nhs + k, 2]\n",
    "            d2Ns_int[i,j,k]   = d2N_tab[i*Nws*Nhs + j*Nhs + k, 3]"
   ]
  },
  {
   "cell_type": "code",
   "execution_count": 8,
   "metadata": {},
   "outputs": [],
   "source": [
    "d2Nnu_I  = RegularGridInterpolator((as_arr, ws_arr, ths_arr), d2Nnu_int, bounds_error=False, fill_value = None)\n",
    "d2Nanu_I = RegularGridInterpolator((as_arr, ws_arr, ths_arr), d2Nanu_int, bounds_error=False, fill_value = None)\n",
    "\n",
    "d2Nf_I = RegularGridInterpolator((as_arr, ws_arr, ths_arr), d2Nf_int, bounds_error=False, fill_value = None)\n",
    "d2Nv_I = RegularGridInterpolator((as_arr, ws_arr, ths_arr), d2Nv_int, bounds_error=False, fill_value = None)\n",
    "d2Ns_I = RegularGridInterpolator((as_arr, ws_arr, ths_arr), d2Ns_int, bounds_error=False, fill_value = None)"
   ]
  },
  {
   "cell_type": "code",
   "execution_count": 9,
   "metadata": {},
   "outputs": [],
   "source": [
    "Int_d2N_tab=np.loadtxt(\"../time_integ/Data/Int_d2N_dEdOm_t=\"+str(np.round(tau_s,3))+\".txt\")"
   ]
  },
  {
   "cell_type": "code",
   "execution_count": 10,
   "metadata": {
    "tags": []
   },
   "outputs": [],
   "source": [
    "Nep_bin = 50\n",
    "Nhp_bin = 50\n",
    "\n",
    "Int_d2N_f_tab = zeros(((Nas*Nep_bin*Nhp_bin)))\n",
    "Int_d2N_s_tab = zeros(((Nas*Nep_bin*Nhp_bin)))\n",
    "Int_d2N_v_tab = zeros(((Nas*Nep_bin*Nhp_bin)))\n",
    "            \n",
    "for k in range(Nas):\n",
    "    for j in range(Nhp_bin):\n",
    "        for i in range(Nep_bin):\n",
    "            Int_d2N_f_tab[k*Nhp_bin*Nep_bin + j*Nep_bin + i] =  Int_d2N_tab[k*Nhp_bin*Nep_bin + j*Nep_bin + i, 0]\n",
    "            Int_d2N_v_tab[k*Nhp_bin*Nep_bin + j*Nep_bin + i] =  Int_d2N_tab[k*Nhp_bin*Nep_bin + j*Nep_bin + i, 1]\n",
    "            Int_d2N_s_tab[k*Nhp_bin*Nep_bin + j*Nep_bin + i] =  Int_d2N_tab[k*Nhp_bin*Nep_bin + j*Nep_bin + i, 2]"
   ]
  },
  {
   "cell_type": "markdown",
   "metadata": {
    "jp-MarkdownHeadingCollapsed": true,
    "tags": []
   },
   "source": [
    "### Simpson Algorithms ###"
   ]
  },
  {
   "cell_type": "code",
   "execution_count": 13,
   "metadata": {},
   "outputs": [],
   "source": [
    "class Simp1D:\n",
    "\n",
    "    def __init__(self, f, pars, lims):\n",
    "\n",
    "        self.f    = f\n",
    "        self.pars = pars\n",
    "        self.lims = lims\n",
    "        \n",
    "    def integrand(self, i):\n",
    "        \n",
    "        pars = self.pars\n",
    "        \n",
    "        xi, xf, Nb = self.lims\n",
    "        \n",
    "        dx = (xf - xi)/(2*Nb)\n",
    "                \n",
    "        return self.f(xi + i*dx, pars) \n",
    "\n",
    "    def integral(self):\n",
    "        \n",
    "        xi, xf, Nb = self.lims\n",
    "        \n",
    "        dx = (xf - xi)/(2*Nb)\n",
    "        \n",
    "        with Pool(8) as pool:        \n",
    "            grid = pool.map(self.integrand, [i for i in range(2*Nb+1)])  \n",
    "        \n",
    "        res = grid[0] + grid [2*Nb]\n",
    "        \n",
    "        for j in range (1,Nb+1): res += 4.*grid[2*j - 1]\n",
    "        for j in range (1,Nb):   res += 2.*grid[2*j]\n",
    "        \n",
    "        #res = self.f(xi, self.pars) + self.f(xf, self.pars)\n",
    "        \n",
    "        #for j in range (1,Nb+1): res += 4.*self.f(xi + (2*j - 1)*dx, self.pars)\n",
    "        #for j in range (1,Nb):   res += 2.*self.f(xi + 2*j*dx, self.pars)\n",
    "        \n",
    "        return res*dx/3."
   ]
  },
  {
   "cell_type": "code",
   "execution_count": 14,
   "metadata": {},
   "outputs": [],
   "source": [
    "class Simp2D:\n",
    "\n",
    "    def __init__(self, f, pars, lims):\n",
    "\n",
    "        self.f    = f\n",
    "        self.pars = pars\n",
    "        self.lims = lims\n",
    "\n",
    "    def weight(self):\n",
    "        \n",
    "        x_min, x_max, yx_min, yx_max, Nx, Ny = self.lims\n",
    "        \n",
    "        wx = np.ones(2*Nx+1)\n",
    "        wx[0]  = 1.\n",
    "        wx[2*Nx] = 1.\n",
    "\n",
    "        for i in range(1, 2*Nx):\n",
    "            if i % 2 == 0:\n",
    "                wx[i] = 2.\n",
    "            else:\n",
    "                wx[i] = 4.\n",
    "        \n",
    "        \n",
    "        wy = np.ones(2*Ny+1)\n",
    "        wy[0]  = 1.\n",
    "        wy[2*Ny] = 1.\n",
    "\n",
    "        for i in range(1, 2*Ny):\n",
    "            if i % 2 == 0:\n",
    "                wy[i] = 2.\n",
    "            else:\n",
    "                wy[i] = 4\n",
    "        \n",
    "        w = np.kron(wy, wx)\n",
    "        \n",
    "        return w\n",
    "        \n",
    "    def integrand(self, i, j):\n",
    "        \n",
    "        pars = self.pars\n",
    "        \n",
    "        xi, xf, yi, yf, Nx, Ny = self.lims\n",
    "        \n",
    "        dx = (xf - xi)/(2*Nx)\n",
    "        dy = (yf - yi)/(2*Ny)\n",
    "        \n",
    "        #print(i, j, i + j*(2*Nx+1))\n",
    "                \n",
    "        return self.f(xi + i*dx, yi + j*dy, pars) \n",
    "    \n",
    "\n",
    "    def integral(self):\n",
    "        \n",
    "        pars = self.pars\n",
    "        \n",
    "        xi, xf, yi, yf, Nx, Ny = self.lims\n",
    "        \n",
    "        dx = (xf - xi)/(2*Nx)\n",
    "        dy = (yf - yi)/(2*Ny)\n",
    "        \n",
    "        #grid = zeros((2*Nx+1)*(2*Ny+1))\n",
    "        \n",
    "        arr_vals = [(i, j) for j in range(2*Ny+1) for i in range(2*Nx+1)]\n",
    "\n",
    "        #with Pool(12) as pool:\n",
    "        #    d2ndwdt = np.array(pool.map(lambda x: d3Ndhdedt(*x), arr_vals))\n",
    "        \n",
    "        with Pool(12) as pool:        \n",
    "            #grid = pool.starmap(self.integrand, [(i, j) for j in range(2*Ny+1) for i in range(2*Nx+1)])  \n",
    "            grid = pool.map(lambda x: self.integrand(*x), arr_vals)  \n",
    "        \n",
    "        w = self.weight()\n",
    "\n",
    "        res = 0.\n",
    "\n",
    "        for j in range(2*Nx+1):\n",
    "            for k in range(2*Ny+1):\n",
    "                res += w[(2*Ny+1)*j + k] * grid[(2*Ny+1)*j + k]\n",
    "        \n",
    "        return res*dx*dy/9."
   ]
  },
  {
   "cell_type": "markdown",
   "metadata": {
    "jp-MarkdownHeadingCollapsed": true,
    "tags": []
   },
   "source": [
    "### Neutrino-antineutrino ###"
   ]
  },
  {
   "cell_type": "code",
   "execution_count": 15,
   "metadata": {},
   "outputs": [],
   "source": [
    "d3A_tab=np.loadtxt(\"./Data/d3A_dEdtdOm.txt\")"
   ]
  },
  {
   "cell_type": "code",
   "execution_count": 16,
   "metadata": {},
   "outputs": [],
   "source": [
    "Na = 100\n",
    "Nw = 100\n",
    "Nh = 100\n",
    "\n",
    "a_arr  = np.linspace(0., 0.9999, Na)\n",
    "w_arr  = np.linspace(-3., log10(3.0), Nw)\n",
    "th_arr = np.linspace(-1, 1, Nh)"
   ]
  },
  {
   "cell_type": "code",
   "execution_count": 17,
   "metadata": {},
   "outputs": [
    {
     "name": "stderr",
     "output_type": "stream",
     "text": [
      "100%|████████████████████████████████████████████████████████████| 100/100 [00:00<00:00, 159.42it/s]\n"
     ]
    }
   ],
   "source": [
    "d3A_int = zeros(((Nh,Na,Nw)))\n",
    "d3N_int = zeros(((Nh,Na,Nw)))\n",
    "\n",
    "#d2A_int.shape\n",
    "\n",
    "for i in tqdm(range(Nh)):\n",
    "    for j in range(Na):\n",
    "        for k in range(Nw):\n",
    "            d3A_int[i,j,k] = d3A_tab[i*Na*Nw + j*Nw + k, 0]\n",
    "            d3N_int[i,j,k] = d3A_tab[i*Na*Nw + j*Nw + k, 1]"
   ]
  },
  {
   "cell_type": "code",
   "execution_count": 18,
   "metadata": {},
   "outputs": [],
   "source": [
    "d3A_I = RegularGridInterpolator((th_arr, a_arr, w_arr), d3A_int, bounds_error=False, fill_value = None)\n",
    "d3N_I = RegularGridInterpolator((th_arr, a_arr, w_arr), d3N_int, bounds_error=False, fill_value = None)"
   ]
  },
  {
   "cell_type": "code",
   "execution_count": 19,
   "metadata": {},
   "outputs": [],
   "source": [
    "UNjt = 1.51927e24\n",
    "\n",
    "def d3N_dEdtdth (p, t, pars):\n",
    "    \n",
    "    cos_th, M_in, a_in, fun_aM_K, d3A_I, d3N_I = pars\n",
    "    \n",
    "    Mt, ast = fun_aM_K(M_in, a_in, t)\n",
    "    \n",
    "    w    = bh.GCF * (Mt/bh.GeV_in_g) * p  # Dimensionless momentum ->  w = G*MBH*p\n",
    "    \n",
    "    Assm = d3A_I([cos_th, ast, log10(w)])[0]/UNjt\n",
    "    Ntot = d3N_I([cos_th, ast, log10(w)])[0]/UNjt\n",
    "    \n",
    "    nu  = 0.5*(Ntot + Assm)\n",
    "    anu = 0.5*(Ntot - Assm)\n",
    "    \n",
    "    return np.array([nu, anu])"
   ]
  },
  {
   "cell_type": "code",
   "execution_count": 20,
   "metadata": {},
   "outputs": [],
   "source": [
    "UNjt = 1.51927e24\n",
    "\n",
    "def d3A_dEdtdth_i (w, cos_th, ast, d3A_I):\n",
    "    \n",
    "    Assm = d3A_I([cos_th, ast, w])[0]\n",
    "    \n",
    "    return Assm*log(10.0)*10.0**w"
   ]
  },
  {
   "cell_type": "markdown",
   "metadata": {
    "tags": []
   },
   "source": [
    "#### Primaries"
   ]
  },
  {
   "cell_type": "code",
   "execution_count": 21,
   "metadata": {},
   "outputs": [],
   "source": [
    "def d2nnu_i(log_p, pars):\n",
    "    \n",
    "    cos_th, ast, d2Nnu_I, d2Nanu_I = pars\n",
    "    \n",
    "    d2nuf  =  d2Nnu_I([ast, 10.**log_p, cos_th])[0]#/UNjt\n",
    "    d2anuf = d2Nanu_I([ast, 10.**log_p, cos_th])[0]#/UNjt\n",
    "    \n",
    "    Jac = log(10) * 10.**log_p                                                                                                                           \n",
    "\n",
    "    return np.array([d2nuf * Jac, d2anuf * Jac])\n",
    "    #return d2nuf * Jac"
   ]
  },
  {
   "cell_type": "code",
   "execution_count": 22,
   "metadata": {},
   "outputs": [],
   "source": [
    "def dA_dOm_binned(lp_min, lp_max, asi, cos_th):\n",
    "        '''\n",
    "        Integrating Hawking rate in time and energy, as function of angle\n",
    "        in units of (nu - antinu)/sr\n",
    "        Binning according to IC effective areas\n",
    "        '''\n",
    "\n",
    "        #print(\"{0:.6E}, {1:.6E}\".format(lp_min, lp_max))\n",
    "        \n",
    "        pars_I  = [cos_th, asi, d2Nnu_I, d2Nanu_I]\n",
    "        inuTot, ianuTot  = Simp1D(d2nnu_i, pars_I, [lp_min, lp_max, 10]).integral()\n",
    "        #ianuTot = 0.\n",
    "\n",
    "        return np.array([inuTot, ianuTot])"
   ]
  },
  {
   "cell_type": "code",
   "execution_count": 23,
   "metadata": {},
   "outputs": [],
   "source": [
    "nevs = 21\n",
    "pIC_arr = np.logspace(2, 6, nevs)"
   ]
  },
  {
   "cell_type": "code",
   "execution_count": 24,
   "metadata": {},
   "outputs": [],
   "source": [
    "efIC_tab=np.loadtxt(\"./Data/IC86_II_effectiveArea.txt\")\n",
    "cos_z = np.linspace(-1, 1, 50)"
   ]
  },
  {
   "cell_type": "code",
   "execution_count": 25,
   "metadata": {},
   "outputs": [],
   "source": [
    "def evs_IC(asi, cos_th):\n",
    "    \n",
    "    #Min = 10.**root(life_bh,10., args=(asi, tau_s), method='lm').x[0]\n",
    "    \n",
    "    dnu  = zeros(nevs-1)\n",
    "    danu = zeros(nevs-1)\n",
    "\n",
    "    for i in range(nevs-1): dnu[i], danu[i] = dA_dOm_binned(log10(pIC_arr[i]), log10(pIC_arr[i+1]), asi, cos_th)\n",
    "    \n",
    "    evs_nu  = np.matmul(efIC_tab, dnu)\n",
    "    evs_anu = np.matmul(efIC_tab, danu)\n",
    "    \n",
    "    return np.array([evs_nu[33], evs_anu[33]])"
   ]
  },
  {
   "cell_type": "markdown",
   "metadata": {
    "jp-MarkdownHeadingCollapsed": true,
    "tags": []
   },
   "source": [
    "#### Secondaries"
   ]
  },
  {
   "cell_type": "code",
   "execution_count": 26,
   "metadata": {},
   "outputs": [],
   "source": [
    "Nes_bin = 50\n",
    "Nhs_bin = 50\n",
    "\n",
    "es_bin   = np.logspace(0., 6., Nes_bin + 1)\n",
    "cths_bin = np.linspace(-1, 1, Nhs_bin + 1)"
   ]
  },
  {
   "cell_type": "code",
   "execution_count": 27,
   "metadata": {},
   "outputs": [],
   "source": [
    "esm_bin=zeros(Nes_bin)\n",
    "chs_bin=zeros(Nhs_bin)\n",
    "\n",
    "for i in range(Nes_bin): esm_bin[i] = 0.5*(es_bin[i] + es_bin[i+1])\n",
    "for i in range(Nhs_bin): chs_bin[i] = 0.5*(cths_bin[i] + cths_bin[i+1])"
   ]
  },
  {
   "cell_type": "code",
   "execution_count": 28,
   "metadata": {},
   "outputs": [],
   "source": [
    "num_bin_int_txt = np.loadtxt(\"../seconds/Data/nu_mu_sec_t=\"+str(np.round(tau_s,3))+\".txt\")\n",
    "anum_bin_int_txt = np.loadtxt(\"../seconds/Data/anu_mu_sec_t=\"+str(np.round(tau_s,3))+\".txt\")"
   ]
  },
  {
   "cell_type": "code",
   "execution_count": 29,
   "metadata": {},
   "outputs": [],
   "source": [
    "num_bin_int = np.zeros((Nas, Nes_bin, Nhs_bin))\n",
    "anum_bin_int = np.zeros((Nas, Nes_bin, Nhs_bin))\n",
    "\n",
    "for k in range(Nas):\n",
    "\n",
    "    for i in range(Nes_bin):\n",
    "        \n",
    "        num_bin_int[k, i, :] = [num_bin_int_txt[k*Nes_bin*Nhs_bin + i*Nhs_bin + j] for j in range(Nhs_bin)]\n",
    "        anum_bin_int[k, i, :] = [anum_bin_int_txt[k*Nes_bin*Nhs_bin + i*Nhs_bin + j] for j in range(Nhs_bin)]"
   ]
  },
  {
   "cell_type": "code",
   "execution_count": 30,
   "metadata": {},
   "outputs": [
    {
     "data": {
      "image/png": "[encoded data removed]",
      "text/plain": [
       "<Figure size 1000x500 with 3 Axes>"
      ]
     },
     "metadata": {},
     "output_type": "display_data"
    }
   ],
   "source": [
    "origin = 'lower'\n",
    "\n",
    "fig, ax = plt.subplots(1,2, figsize=(10,5))\n",
    "\n",
    "CS  = ax[0].contourf(log10(esm_bin), chs_bin, log10(num_bin_int[-1].T), levels=15, cmap=cmap1)\n",
    "ax[1].contourf(log10(esm_bin), chs_bin, log10(anum_bin_int[-1].T), levels=15, cmap=cmap1)\n",
    "\n",
    "ax[0].set_ylim(-1, 1)\n",
    "ax[0].set_xlim(0, 6)\n",
    "\n",
    "ax[1].set_ylim(-1, 1)\n",
    "ax[1].set_xlim(0, 6)\n",
    "\n",
    "\n",
    "cbar = fig.colorbar(CS)"
   ]
  },
  {
   "cell_type": "code",
   "execution_count": 31,
   "metadata": {},
   "outputs": [],
   "source": [
    "d2Nnu_s_I  = RegularGridInterpolator((as_arr, log10(esm_bin), chs_bin), log10(num_bin_int), bounds_error=False, fill_value = None)\n",
    "d2Nanu_s_I = RegularGridInterpolator((as_arr, log10(esm_bin), chs_bin), log10(anum_bin_int), bounds_error=False, fill_value = None)"
   ]
  },
  {
   "cell_type": "code",
   "execution_count": 32,
   "metadata": {},
   "outputs": [],
   "source": [
    "nst = 100\n",
    "\n",
    "w_arr = np.linspace(2., 6., nst)\n",
    "\n",
    "numt1 = np.array([10.**d2Nnu_s_I([0.999, w_arr[i], cos(15*pi/180.)]) for i in range(nst)])\n",
    "numt2 = np.array([10.**d2Nnu_s_I([0.999, w_arr[i], cos(90*pi/180.)]) for i in range(nst)])\n",
    "numt3 = np.array([10.**d2Nnu_s_I([0.999, w_arr[i], cos(120*pi/180.)]) for i in range(nst)])"
   ]
  },
  {
   "cell_type": "code",
   "execution_count": 33,
   "metadata": {},
   "outputs": [],
   "source": [
    "anumt1 = np.array([10.**d2Nanu_s_I([0.999, w_arr[i], cos(15*pi/180.)]) for i in range(nst)])\n",
    "anumt2 = np.array([10.**d2Nanu_s_I([0.999, w_arr[i], cos(90*pi/180.)]) for i in range(nst)])\n",
    "anumt3 = np.array([10.**d2Nanu_s_I([0.999, w_arr[i], cos(120*pi/180.)]) for i in range(nst)])"
   ]
  },
  {
   "cell_type": "code",
   "execution_count": 34,
   "metadata": {},
   "outputs": [],
   "source": [
    "def int_numus_inst(log_p, pars):\n",
    "    \n",
    "    asi, cos_th, d2Nnu, d2Nanu = pars\n",
    "    \n",
    "    p = 10.**log_p\n",
    "    \n",
    "    nu_mu  = 10.**d2Nnu([asi, log_p, cos_th])[0]\n",
    "    anu_mu = 10.**d2Nanu([asi, log_p, cos_th])[0]\n",
    "\n",
    "    Jac = log(10) * p                                                                                                                           \n",
    "\n",
    "    return np.array([nu_mu * Jac, anu_mu * Jac])"
   ]
  },
  {
   "cell_type": "code",
   "execution_count": 35,
   "metadata": {},
   "outputs": [],
   "source": [
    "def dNnus_dOm_binned(lp_min, lp_max, asi, cos_th):\n",
    "        '''\n",
    "        Integrating Hawking rate in time and energy, as function of angle\n",
    "        in units of (nu - antinu)/sr\n",
    "        Binning according to IC effective areas\n",
    "        '''\n",
    "\n",
    "        pars_I = [asi, cos_th, d2Nnu_s_I, d2Nanu_s_I]\n",
    "        inTot = Simp1D(int_numus_inst, pars_I, [lp_min, lp_max, 20]).integral()\n",
    "\n",
    "        return inTot"
   ]
  },
  {
   "cell_type": "code",
   "execution_count": 36,
   "metadata": {},
   "outputs": [],
   "source": [
    "def evs_sec_IC(asi, cos_th):\n",
    "    \n",
    "    #Min = 10.**root(life_bh,10., args=(asi, tau_s), method='lm').x[0]\n",
    "    \n",
    "    dnu  = zeros(nevs-1)\n",
    "    danu = zeros(nevs-1)\n",
    "\n",
    "    for i in range(nevs-1): dnu[i], danu[i] = dNnus_dOm_binned(log10(pIC_arr[i]), log10(pIC_arr[i+1]), asi, cos_th)\n",
    "    \n",
    "    evs_nu  = np.matmul(efIC_tab, dnu)\n",
    "    evs_anu = np.matmul(efIC_tab, danu)\n",
    "    \n",
    "    return np.array([evs_nu[33], evs_anu[33]])"
   ]
  },
  {
   "cell_type": "markdown",
   "metadata": {
    "jp-MarkdownHeadingCollapsed": true,
    "tags": []
   },
   "source": [
    "### Photons ###"
   ]
  },
  {
   "cell_type": "code",
   "execution_count": 37,
   "metadata": {},
   "outputs": [],
   "source": [
    "d3Ng_tab=np.loadtxt(\"../photons/Data/d3Nv_dEdtdOm.txt\")"
   ]
  },
  {
   "cell_type": "code",
   "execution_count": 38,
   "metadata": {},
   "outputs": [],
   "source": [
    "Nag = 50\n",
    "Nwg = 50\n",
    "Nhg = 50\n",
    "\n",
    "ag_arr  = np.linspace(0., 0.9999, Nag)\n",
    "wg_arr  = np.linspace(-3., log10(3.0), Nwg)\n",
    "thg_arr = np.linspace(-1, 1, Nhg)"
   ]
  },
  {
   "cell_type": "code",
   "execution_count": 39,
   "metadata": {},
   "outputs": [
    {
     "name": "stderr",
     "output_type": "stream",
     "text": [
      "100%|█████████████████████████████████████████████████████████████| 50/50 [00:00<00:00, 1378.42it/s]\n"
     ]
    }
   ],
   "source": [
    "d3Ng_int = zeros(((Nhg,Nag,Nwg)))\n",
    "\n",
    "for i in tqdm(range(Nhg)):\n",
    "    for j in range(Nag):\n",
    "        for k in range(Nwg):\n",
    "            d3Ng_int[i,j,k] = d3Ng_tab[i*Nag*Nwg + j*Nwg + k]"
   ]
  },
  {
   "cell_type": "code",
   "execution_count": 40,
   "metadata": {},
   "outputs": [],
   "source": [
    "d3Ng_I = RegularGridInterpolator((thg_arr, ag_arr, wg_arr), d3Ng_int, bounds_error=False, fill_value = None)"
   ]
  },
  {
   "cell_type": "code",
   "execution_count": 41,
   "metadata": {},
   "outputs": [],
   "source": [
    "asi = 0.\n",
    "\n",
    "d3N_g = np.zeros((Nag,Nag))\n",
    "\n",
    "for i in range(Nhg): \n",
    "    for j in range(Nhg): \n",
    "        d3N_g[i, j] = 10.**wg_arr[j]*d3Ng_I([thg_arr[i], asi, wg_arr[j]])[0]"
   ]
  },
  {
   "cell_type": "code",
   "execution_count": 42,
   "metadata": {},
   "outputs": [
    {
     "data": {
      "image/png": "[encoded data removed]",
      "text/plain": [
       "<Figure size 640x480 with 2 Axes>"
      ]
     },
     "metadata": {},
     "output_type": "display_data"
    }
   ],
   "source": [
    "origin = 'lower'\n",
    "\n",
    "fig, ax = plt.subplots(layout='constrained')\n",
    "CS  = ax.contourf(wg_arr, thg_arr, d3N_g, levels=10, cmap=cmap1)\n",
    "\n",
    "#CS2 = ax.contour(CS, levels=[2.3, 6.18, 11.83], coors='r', origin=origin)\n",
    "#ax.set_ylim(0.,1.)\n",
    "ax.set_xlim(-3., log10(3.0))\n",
    "cbar = fig.colorbar(CS)"
   ]
  },
  {
   "cell_type": "code",
   "execution_count": 43,
   "metadata": {},
   "outputs": [],
   "source": [
    "def d2ng_i(log_p, pars):\n",
    "    \n",
    "    cos_th, ast, d2Nv_I = pars\n",
    "    \n",
    "    d2g  =  d2Nv_I([ast, 10.**log_p, cos_th])[0]#/UNjt\n",
    "    \n",
    "    Jac = log(10) * 10.**log_p    \n",
    "    \n",
    "    # ah = 0.1956  # Values for the 0 - 26 zenith angle bin\n",
    "    # ch = -2.6778\n",
    "    # dh = 12.1899\n",
    "    # eh = -13.5\n",
    "    \n",
    "    ah = 0.  # Values for the 0 - 26 zenith angle bin\n",
    "    ch = -0.6966\n",
    "    dh = 6.0714\n",
    "    eh = -8.253\n",
    "    \n",
    "    effarHW = 10**(ah*log_p**3 + ch*log_p**2 + dh*log_p + eh) # HAWK effective area, in m^2, p in GeV\n",
    "\n",
    "    return d2g * Jac * effarHW"
   ]
  },
  {
   "cell_type": "code",
   "execution_count": 44,
   "metadata": {},
   "outputs": [],
   "source": [
    "def dNg_dOm_binned(lp_min, lp_max, asi, cos_th):\n",
    "        '''\n",
    "        Integrating Hawking rate in time and energy, as function of angle\n",
    "        in units of (nu - antinu)/sr\n",
    "        Binning according to IC effective areas\n",
    "        '''\n",
    "\n",
    "        #print(\"{0:.6E}, {1:.6E}\".format(lp_min, lp_max))\n",
    "        \n",
    "        pars_I  = [cos_th, asi, d2Nv_I]\n",
    "        igTot  = Simp1D(d2ng_i, pars_I, [lp_min, lp_max, 500]).integral()\n",
    "        #ianuTot = 0.\n",
    "\n",
    "        return igTot"
   ]
  },
  {
   "cell_type": "code",
   "execution_count": 45,
   "metadata": {},
   "outputs": [],
   "source": [
    "def evs_Hawk(asi, cos_th):\n",
    "    \n",
    "    dg = dNg_dOm_binned(4, 5, asi, cos_th)\n",
    "    \n",
    "    return dg"
   ]
  },
  {
   "cell_type": "code",
   "execution_count": 46,
   "metadata": {},
   "outputs": [
    {
     "name": "stdout",
     "output_type": "stream",
     "text": [
      "7.589181743408147e+30 7.591715332813576e+30 7.606521330940086e+30 7.645140093568276e+30 7.799978356318481e+30 8.069235953221159e+30 2.066577045307433e+31\n"
     ]
    }
   ],
   "source": [
    "print(evs_Hawk(0., 0.5), evs_Hawk(0.01, 0.5), evs_Hawk(0.05, 0.5), evs_Hawk(0.1, 0.5), evs_Hawk(0.2, 0.5), evs_Hawk(0.3, 0.5), evs_Hawk(0.99, 0.5))"
   ]
  },
  {
   "cell_type": "code",
   "execution_count": 47,
   "metadata": {},
   "outputs": [],
   "source": [
    "Nes_bin = 50\n",
    "Nhs_bin = 50\n",
    "\n",
    "es_bin   = np.logspace(0., 6., Nes_bin + 1)\n",
    "cths_bin = np.linspace(-1, 1, Nhs_bin + 1)"
   ]
  },
  {
   "cell_type": "code",
   "execution_count": 48,
   "metadata": {},
   "outputs": [],
   "source": [
    "esm_bin=zeros(Nes_bin)\n",
    "chs_bin=zeros(Nhs_bin)\n",
    "\n",
    "for i in range(Nes_bin): esm_bin[i] = 0.5*(es_bin[i] + es_bin[i+1])\n",
    "for i in range(Nhs_bin): chs_bin[i] = 0.5*(cths_bin[i] + cths_bin[i+1])"
   ]
  },
  {
   "cell_type": "code",
   "execution_count": 49,
   "metadata": {},
   "outputs": [],
   "source": [
    "gam_bin_int_txt = np.loadtxt(\"../seconds/Data/gam_sec_t=\"+str(np.round(tau_s,3))+\".txt\")"
   ]
  },
  {
   "cell_type": "code",
   "execution_count": 50,
   "metadata": {},
   "outputs": [],
   "source": [
    "gam_bin_int = np.zeros((Nas, Nes_bin, Nhs_bin))\n",
    "\n",
    "for k in range(Nas):\n",
    "\n",
    "    for i in range(Nes_bin):\n",
    "        \n",
    "        gam_bin_int[k, i, :] = [gam_bin_int_txt[k*Nes_bin*Nhs_bin + i*Nhs_bin + j] for j in range(Nhs_bin)]"
   ]
  },
  {
   "cell_type": "code",
   "execution_count": 51,
   "metadata": {},
   "outputs": [
    {
     "data": {
      "image/png": "[encoded data removed]",
      "text/plain": [
       "<Figure size 1000x500 with 2 Axes>"
      ]
     },
     "metadata": {},
     "output_type": "display_data"
    }
   ],
   "source": [
    "origin = 'lower'\n",
    "\n",
    "fig, ax = plt.subplots(figsize=(10,5))\n",
    "\n",
    "CS  = ax.contourf(log10(esm_bin), chs_bin, log10(gam_bin_int[0].T), levels=15, cmap=cmap1)\n",
    "\n",
    "ax.set_ylim(-1, 1)\n",
    "ax.set_xlim(0, 6)\n",
    "\n",
    "\n",
    "cbar = fig.colorbar(CS)"
   ]
  },
  {
   "cell_type": "code",
   "execution_count": 52,
   "metadata": {},
   "outputs": [],
   "source": [
    "d2Ng_s_I  = RegularGridInterpolator((as_arr, log10(esm_bin), chs_bin), log10(gam_bin_int), bounds_error=False, fill_value = None)"
   ]
  },
  {
   "cell_type": "code",
   "execution_count": 53,
   "metadata": {},
   "outputs": [],
   "source": [
    "def int_gams_inst(log_p, pars):\n",
    "    \n",
    "    asi, cos_th, d2Ng = pars\n",
    "    \n",
    "    p = 10.**log_p\n",
    "    \n",
    "    gam  = 10.**d2Ng([asi, log_p, cos_th])[0]\n",
    "    \n",
    "    ah = 0.  # Values for the 0 - 26 zenith angle bin\n",
    "    ch = -0.6966\n",
    "    dh = 6.0714\n",
    "    eh = -8.253\n",
    "\n",
    "    \n",
    "    effarHW = 10**(ah*log_p**3 + ch*log_p**2 + dh*log_p + eh)\n",
    "\n",
    "    Jac = log(10) * p                                                                                                                           \n",
    "\n",
    "    return gam * Jac * effarHW # in m^2/GeV"
   ]
  },
  {
   "cell_type": "code",
   "execution_count": 54,
   "metadata": {},
   "outputs": [],
   "source": [
    "def dNgs_dOm_binned(lp_min, lp_max, asi, cos_th):\n",
    "        '''\n",
    "        Integrating Hawking rate in time and energy, as function of angle\n",
    "        in units of (nu - antinu)/sr\n",
    "        Binning according to IC effective areas\n",
    "        '''\n",
    "\n",
    "        pars_I = [asi, cos_th, d2Ng_s_I]\n",
    "        inTot = Simp1D(int_gams_inst, pars_I, [lp_min, lp_max, 20]).integral()\n",
    "\n",
    "        return inTot"
   ]
  },
  {
   "cell_type": "code",
   "execution_count": 55,
   "metadata": {},
   "outputs": [],
   "source": [
    "def evs_s_Hawk(asi, cos_th):\n",
    "    \n",
    "    dg = dNgs_dOm_binned(4., 5., asi, cos_th)\n",
    "    \n",
    "    return dg"
   ]
  },
  {
   "cell_type": "markdown",
   "metadata": {
    "tags": []
   },
   "source": [
    "### Combination ###"
   ]
  },
  {
   "cell_type": "code",
   "execution_count": 56,
   "metadata": {},
   "outputs": [
    {
     "name": "stdout",
     "output_type": "stream",
     "text": [
      "3.085700E+12, 2.062650E+01\n"
     ]
    }
   ],
   "source": [
    "pc = 3.0857e16 # parsec in m\n",
    "d = 1.e-4*pc\n",
    "print(\"{0:.6E}, {1:.6E}\".format(d, d*2.06265e5/pc))"
   ]
  },
  {
   "cell_type": "code",
   "execution_count": 57,
   "metadata": {},
   "outputs": [],
   "source": [
    "def evs_IC_full(asi, cos_th):\n",
    "    \n",
    "    #Min = 10.**root(life_bh,10., args=(asi, tau_s), method='lm').x[0]\n",
    "    \n",
    "    dnu  = zeros(nevs-1)\n",
    "    danu = zeros(nevs-1)\n",
    "\n",
    "    for i in range(nevs-1): dnu[i], danu[i] = dA_dOm_binned(log10(pIC_arr[i]), log10(pIC_arr[i+1]), asi, cos_th)\n",
    "    \n",
    "    evs_nu  = np.matmul(efIC_tab, dnu)\n",
    "    evs_anu = np.matmul(efIC_tab, danu)\n",
    "    \n",
    "    return np.array([evs_nu, evs_anu])\n",
    "\n",
    "def evs_sec_IC_full(asi, cos_th):\n",
    "\n",
    "    #Min = 10.**root(life_bh,10., args=(asi, tau_s), method='lm').x[0]\n",
    "    \n",
    "    dnu  = zeros(nevs-1)\n",
    "    danu = zeros(nevs-1)\n",
    "\n",
    "    for i in range(nevs-1): dnu[i], danu[i] = dNnus_dOm_binned(log10(pIC_arr[i]), log10(pIC_arr[i+1]), asi, cos_th)\n",
    "    \n",
    "    evs_nu  = np.matmul(efIC_tab, dnu)\n",
    "    evs_anu = np.matmul(efIC_tab, danu)\n",
    "    \n",
    "    return np.array([evs_nu, evs_anu])"
   ]
  },
  {
   "cell_type": "code",
   "execution_count": 58,
   "metadata": {},
   "outputs": [
    {
     "name": "stdout",
     "output_type": "stream",
     "text": [
      "-0.6000000000000001 (50,)\n"
     ]
    }
   ],
   "source": [
    "cos_z = np.array([1 - 2.*i/50 for i in range(50)])#np.linspace(1, -0.98, 51)\n",
    "print(cos_z[40], cos_z.shape)\n",
    "\n",
    "asi = 0.999\n",
    "cos_th = cos(90.*pi/180.)\n",
    "\n",
    "evs_full_nu = evs_IC_full(asi, cos_th)\n",
    "evs_full_sec_nu = evs_sec_IC_full(asi, cos_th)\n",
    "\n",
    "evs=np.vstack((cos_z, evs_full_nu[0,:], evs_full_sec_nu[0,:], evs_full_nu[1,:], evs_full_sec_nu[1,:]))\n",
    "\n",
    "np.savetxt(\"./Data/evs_full_t=\"+str(np.round(tau_s,3))+\"_th=1.571.txt\", evs.T)"
   ]
  },
  {
   "cell_type": "code",
   "execution_count": 59,
   "metadata": {},
   "outputs": [
    {
     "name": "stdout",
     "output_type": "stream",
     "text": [
      "0.5 0.7071067811865477\n",
      "Monochromatic Time 2.616814613342285 s\n",
      "Monochromatic Time 0.07027697563171387 s\n",
      "7.623437114199921e+27 8.313198700583076e+27\n",
      "800.6513147322302 873.0935101247503 2811328.5585295265 0.7071067811865477\n"
     ]
    }
   ],
   "source": [
    "asi   = 0.5\n",
    "cos_th = cos(45.*pi/180.)\n",
    "print(asi, cos_th)\n",
    "\n",
    "start = time.time()\n",
    "evs_0_nu,  evs_0_anu = evs_IC(asi, cos_th) + evs_sec_IC(asi, cos_th)\n",
    "end = time.time()\n",
    "print(f\"Monochromatic Time {end - start} s\") \n",
    "\n",
    "start = time.time()\n",
    "evs_0_g = evs_Hawk(asi, cos_th) + evs_s_Hawk(asi, cos_th)\n",
    "end = time.time()\n",
    "print(f\"Monochromatic Time {end - start} s\") \n",
    "\n",
    "print(evs_0_nu,  evs_0_anu)\n",
    "\n",
    "print(evs_0_nu/(d*d),  evs_0_anu/(d*d), evs_0_g/(d*d), cos_th)\n",
    "\n",
    "evs_bf = np.array([evs_0_nu, evs_0_anu, evs_0_g])\n",
    "np.savetxt(\"./Data/evs_BF_t=\"+str(np.round(tau_s,3))+\".txt\", evs_bf.T)"
   ]
  },
  {
   "cell_type": "code",
   "execution_count": 132,
   "metadata": {},
   "outputs": [
    {
     "name": "stdout",
     "output_type": "stream",
     "text": [
      "0.9 0.7071067811865477\n",
      "Monochromatic Time 1.7061963081359863 s\n",
      "Monochromatic Time 0.08243799209594727 s\n",
      "840.9745429718869 975.4533413292079 3775746.73785945 0.7071067811865477\n"
     ]
    }
   ],
   "source": [
    "asi   = 0.9\n",
    "cos_th = cos(45.*pi/180.)\n",
    "print(asi, cos_th)\n",
    "\n",
    "start = time.time()\n",
    "evs_0_nu,  evs_0_anu = evs_IC(asi, cos_th) + evs_sec_IC(asi, cos_th)\n",
    "end = time.time()\n",
    "print(f\"Monochromatic Time {end - start} s\") \n",
    "\n",
    "start = time.time()\n",
    "evs_0_g = evs_Hawk(asi, cos_th) + evs_s_Hawk(asi, cos_th)\n",
    "end = time.time()\n",
    "print(f\"Monochromatic Time {end - start} s\") \n",
    "\n",
    "print(evs_0_nu/(d*d),  evs_0_anu/(d*d), evs_0_g/(d*d), cos_th)"
   ]
  },
  {
   "cell_type": "code",
   "execution_count": null,
   "metadata": {},
   "outputs": [],
   "source": []
  }
 ],
 "metadata": {
  "kernelspec": {
   "display_name": "Python 3 (ipykernel)",
   "language": "python",
   "name": "python3"
  },
  "language_info": {
   "codemirror_mode": {
    "name": "ipython",
    "version": 3
   },
   "file_extension": ".py",
   "mimetype": "text/x-python",
   "name": "python",
   "nbconvert_exporter": "python",
   "pygments_lexer": "ipython3",
   "version": "3.10.13"
  }
 },
 "nbformat": 4,
 "nbformat_minor": 4
}
